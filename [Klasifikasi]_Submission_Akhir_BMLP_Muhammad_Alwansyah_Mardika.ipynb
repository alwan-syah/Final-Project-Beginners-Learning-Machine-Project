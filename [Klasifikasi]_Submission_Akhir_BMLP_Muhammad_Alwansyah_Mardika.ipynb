{
 "cells": [
  {
   "cell_type": "markdown",
   "metadata": {
    "id": "0tvAKGat01Sd"
   },
   "source": [
    "# **Penting**\n",
    "- Jangan mengubah atau menambahkan cell text yang sudah disediakan, Anda hanya perlu mengerjakan cell code yang sudah disediakan.\n",
    "- Pastikan seluruh kriteria memiliki output yang sesuai, karena jika tidak ada output dianggap tidak selesai.\n",
    "- Misal, Anda menggunakan df = df.dropna() silakan gunakan df.isnull().sum() sebagai tanda sudah berhasil. Silakan sesuaikan seluruh output dengan perintah yang sudah disediakan.\n",
    "- Pastikan Anda melakukan Run All sebelum mengirimkan submission untuk memastikan seluruh cell berjalan dengan baik.\n",
    "- Pastikan Anda menggunakan variabel df dari awal sampai akhir dan tidak diperbolehkan mengganti nama variabel tersebut.\n",
    "- Hapus simbol pagar (#) pada kode yang bertipe komentar jika Anda menerapkan kriteria tambahan\n",
    "- Biarkan simbol pagar (#) jika Anda tidak menerapkan kriteria tambahan\n",
    "- Pastikan Anda mengerjakan sesuai section yang sudah diberikan tanpa mengubah judul atau header yang disediakan."
   ]
  },
  {
   "cell_type": "markdown",
   "metadata": {
    "id": "fKADPWcFKlj3"
   },
   "source": [
    "# **1. Import Library**\n",
    "Pada tahap ini, Anda perlu mengimpor beberapa pustaka (library) Python yang dibutuhkan untuk analisis data dan pembangunan model machine learning."
   ]
  },
  {
   "cell_type": "code",
   "execution_count": 1,
   "metadata": {
    "id": "BlmvjLY9M4Yj"
   },
   "outputs": [],
   "source": [
    "#Type your code here\n",
    "import pandas as pd\n",
    "import numpy as np\n",
    "import matplotlib.pyplot as plt\n",
    "import seaborn as sns\n",
    "from sklearn.model_selection import train_test_split\n",
    "from sklearn.ensemble import RandomForestClassifier\n",
    "from sklearn.metrics import accuracy_score, f1_score, confusion_matrix, classification_report\n",
    "from sklearn.model_selection import GridSearchCV\n",
    "from sklearn.tree import DecisionTreeClassifier\n",
    "from sklearn.preprocessing import LabelEncoder, StandardScaler"
   ]
  },
  {
   "cell_type": "markdown",
   "metadata": {
    "id": "f3YIEnAFKrKL"
   },
   "source": [
    "# **2. Memuat Dataset dari Hasil Clustering**\n",
    "Memuat dataset hasil clustering dari file CSV ke dalam variabel DataFrame."
   ]
  },
  {
   "cell_type": "code",
   "execution_count": 2,
   "metadata": {
    "id": "GHCGNTyrM5fS"
   },
   "outputs": [],
   "source": [
    "# Gunakan dataset hasil clustering yang memiliki fitur Target\n",
    "# Silakan gunakan dataset data_clustering jika tidak menerapkan Interpretasi Hasil Clustering [Advanced]\n",
    "# Silakan gunakan dataset data_clustering_inverse jika menerapkan Interpretasi Hasil Clustering [Advanced]\n",
    "# Lengkapi kode berikut\n",
    "df = pd.read_csv(\"data_clustering_inverse.csv\")"
   ]
  },
  {
   "cell_type": "code",
   "execution_count": 3,
   "metadata": {
    "id": "bCsep0NZ0LUf"
   },
   "outputs": [
    {
     "name": "stdout",
     "output_type": "stream",
     "text": [
      "   TransactionAmount  CustomerAge  TransactionDuration  LoginAttempts  \\\n",
      "0              14.09         70.0                 81.0            1.0   \n",
      "1             376.24         68.0                141.0            1.0   \n",
      "2             126.29         19.0                 56.0            1.0   \n",
      "3             184.50         26.0                 25.0            1.0   \n",
      "4              13.45         45.0                198.0            1.0   \n",
      "\n",
      "   AccountBalance      TransactionDate TransactionType   Location Channel  \\\n",
      "0         5112.21  2023-04-11 16:29:14           Debit  San Diego     ATM   \n",
      "1        13758.91  2023-06-27 16:44:19           Debit    Houston     ATM   \n",
      "2         1122.35  2023-07-10 18:16:08           Debit       Mesa  Online   \n",
      "3         8569.06  2023-05-05 16:32:11           Debit    Raleigh  Online   \n",
      "4         7429.40  2023-10-16 17:51:24          Credit    Atlanta  Online   \n",
      "\n",
      "  CustomerOccupation PreviousTransactionDate  Target  \n",
      "0             Doctor     2024-11-04 08:08:08       1  \n",
      "1             Doctor     2024-11-04 08:09:35       0  \n",
      "2            Student     2024-11-04 08:07:04       0  \n",
      "3            Student     2024-11-04 08:09:06       1  \n",
      "4            Student     2024-11-04 08:06:39       2  \n"
     ]
    }
   ],
   "source": [
    "# Tampilkan 5 baris pertama dengan function head.\n",
    "print(df.head(5))"
   ]
  },
  {
   "cell_type": "markdown",
   "metadata": {
    "id": "KkPem5eWL2UP"
   },
   "source": [
    "# **3. Data Splitting**\n",
    "Tahap Data Splitting bertujuan untuk memisahkan dataset menjadi dua bagian: data latih (training set) dan data uji (test set)."
   ]
  },
  {
   "cell_type": "code",
   "execution_count": 4,
   "metadata": {
    "id": "OubAW-7ONKVj"
   },
   "outputs": [
    {
     "name": "stdout",
     "output_type": "stream",
     "text": [
      "Index(['TransactionAmount', 'CustomerAge', 'TransactionDuration',\n",
      "       'LoginAttempts', 'AccountBalance', 'TransactionDate', 'TransactionType',\n",
      "       'Location', 'Channel', 'CustomerOccupation', 'PreviousTransactionDate',\n",
      "       'Target'],\n",
      "      dtype='object')\n",
      "Ukuran data latih: (2029, 9)\n",
      "Ukuran data uji: (508, 9)\n",
      "Distribusi label train:\n",
      " Target\n",
      "1    681\n",
      "0    677\n",
      "2    671\n",
      "Name: count, dtype: int64\n",
      "Distribusi label test:\n",
      " Target\n",
      "1    171\n",
      "0    169\n",
      "2    168\n",
      "Name: count, dtype: int64\n"
     ]
    }
   ],
   "source": [
    "# Menggunakan train_test_split() untuk melakukan pembagian dataset.\n",
    "print(df.columns)\n",
    "\n",
    "# Pilih fitur (drop kolom datetime & Target)\n",
    "X = df.drop(columns=[\"TransactionDate\", \"PreviousTransactionDate\", \"Target\"])\n",
    "y = df[\"Target\"]\n",
    "\n",
    "# Encode kolom kategorikal\n",
    "cat_cols = X.select_dtypes(include=[\"object\"]).columns\n",
    "encoders = {}\n",
    "for col in cat_cols:\n",
    "    le = LabelEncoder()\n",
    "    X[col] = le.fit_transform(X[col])\n",
    "    encoders[col] = le  # simpan encoder untuk inverse transform kalau dibutuhkan\n",
    "\n",
    "# Split data latih dan uji\n",
    "X_train, X_test, y_train, y_test = train_test_split(\n",
    "    X, y, test_size=0.2, random_state=42, stratify=y\n",
    ")\n",
    "\n",
    "print(\"Ukuran data latih:\", X_train.shape)\n",
    "print(\"Ukuran data uji:\", X_test.shape)\n",
    "print(\"Distribusi label train:\\n\", y_train.value_counts())\n",
    "print(\"Distribusi label test:\\n\", y_test.value_counts())"
   ]
  },
  {
   "cell_type": "markdown",
   "metadata": {
    "id": "IVPbB03CMhTT"
   },
   "source": [
    "# **4. Membangun Model Klasifikasi**\n",
    "Setelah memilih algoritma klasifikasi yang sesuai, langkah selanjutnya adalah melatih model menggunakan data latih.\n",
    "\n",
    "Berikut adalah rekomendasi tahapannya.\n",
    "1. Menggunakan algoritma klasifikasi yaitu Decision Tree.\n",
    "2. Latih model menggunakan data yang sudah dipisah."
   ]
  },
  {
   "cell_type": "code",
   "execution_count": 5,
   "metadata": {
    "id": "4JYxBe87NLDk"
   },
   "outputs": [
    {
     "name": "stdout",
     "output_type": "stream",
     "text": [
      "Model Decision Tree telah dilatih\n"
     ]
    }
   ],
   "source": [
    "# Buatlah model klasifikasi menggunakan Decision Tree\n",
    "# Membangun Model Klasifikasi - Decision Tree\n",
    "model_dt = DecisionTreeClassifier(random_state=42)\n",
    "model_dt.fit(X_train, y_train)\n",
    "\n",
    "print('Model Decision Tree telah dilatih')"
   ]
  },
  {
   "cell_type": "code",
   "execution_count": 6,
   "metadata": {},
   "outputs": [
    {
     "name": "stdout",
     "output_type": "stream",
     "text": [
      "=== Evaluasi Decision Tree ===\n",
      "Akurasi: 0.3720472440944882\n",
      "\n",
      "Classification Report (Decision Tree):\n",
      "              precision    recall  f1-score   support\n",
      "\n",
      "           0     0.3466    0.3609    0.3536       169\n",
      "           1     0.3758    0.3626    0.3690       171\n",
      "           2     0.3952    0.3929    0.3940       168\n",
      "\n",
      "    accuracy                         0.3720       508\n",
      "   macro avg     0.3725    0.3721    0.3722       508\n",
      "weighted avg     0.3725    0.3720    0.3722       508\n",
      "\n"
     ]
    },
    {
     "data": {
      "image/png": "[encoded data removed]",
      "text/plain": [
       "<Figure size 640x480 with 2 Axes>"
      ]
     },
     "metadata": {},
     "output_type": "display_data"
    }
   ],
   "source": [
    "y_pred_dt = model_dt.predict(X_test)\n",
    "\n",
    "print(\"=== Evaluasi Decision Tree ===\")\n",
    "print(\"Akurasi:\", accuracy_score(y_test, y_pred_dt))\n",
    "print(\"\\nClassification Report (Decision Tree):\")\n",
    "print(classification_report(y_test, y_pred_dt, digits=4))\n",
    "\n",
    "# Visualisasi Confusion Matrix untuk Decision Tree\n",
    "sns.heatmap(confusion_matrix(y_test, y_pred_dt), annot=True, fmt='d', cmap='Greens')\n",
    "plt.title('Confusion Matrix - Decision Tree')\n",
    "plt.xlabel('Predicted')\n",
    "plt.ylabel('True')\n",
    "plt.show()"
   ]
  },
  {
   "cell_type": "code",
   "execution_count": 7,
   "metadata": {
    "id": "P_AakAxghYv-"
   },
   "outputs": [
    {
     "data": {
      "text/plain": [
       "['decision_tree_model.h5']"
      ]
     },
     "execution_count": 7,
     "metadata": {},
     "output_type": "execute_result"
    }
   ],
   "source": [
    "# Menyimpan Model\n",
    "import joblib\n",
    "joblib.dump(model_dt, 'decision_tree_model.h5')"
   ]
  },
  {
   "cell_type": "markdown",
   "metadata": {
    "id": "epO4HhrzBXMg"
   },
   "source": [
    "# **5. Memenuhi Kriteria Skilled dan Advanced dalam Membangun Model Klasifikasi**\n",
    "\n"
   ]
  },
  {
   "cell_type": "markdown",
   "metadata": {
    "id": "DNOEZk24uiXu"
   },
   "source": [
    "**Biarkan kosong jika tidak menerapkan kriteria skilled atau advanced**"
   ]
  },
  {
   "cell_type": "code",
   "execution_count": 8,
   "metadata": {
    "id": "kB_8LIWMATl6"
   },
   "outputs": [
    {
     "name": "stdout",
     "output_type": "stream",
     "text": [
      "Model Random Forest telah dilatih\n"
     ]
    }
   ],
   "source": [
    "# Melatih model menggunakan algoritma klasifikasi scikit-learn selain Decision Tree.\n",
    "# Disini saya menggunakan Model Random Forest\n",
    "model_rf = RandomForestClassifier(random_state=42)\n",
    "model_rf.fit(X_train, y_train)\n",
    "\n",
    "print('Model Random Forest telah dilatih')"
   ]
  },
  {
   "cell_type": "code",
   "execution_count": 9,
   "metadata": {
    "id": "bRlKm5BVAT91"
   },
   "outputs": [
    {
     "name": "stdout",
     "output_type": "stream",
     "text": [
      "\n",
      "=== Evaluasi Random Forest ===\n",
      "Akurasi: 0.36220472440944884\n",
      "\n",
      "Classification Report (Random Forest):\n",
      "              precision    recall  f1-score   support\n",
      "\n",
      "           0     0.3514    0.3846    0.3672       169\n",
      "           1     0.3333    0.3743    0.3526       171\n",
      "           2     0.4198    0.3274    0.3679       168\n",
      "\n",
      "    accuracy                         0.3622       508\n",
      "   macro avg     0.3682    0.3621    0.3626       508\n",
      "weighted avg     0.3679    0.3622    0.3625       508\n",
      "\n"
     ]
    },
    {
     "data": {
      "image/png": "[encoded data removed]",
      "text/plain": [
       "<Figure size 640x480 with 2 Axes>"
      ]
     },
     "metadata": {},
     "output_type": "display_data"
    }
   ],
   "source": [
    "# Menampilkan hasil evaluasi akurasi, presisi, recall, dan F1-Score pada seluruh algoritma yang sudah dibuat.\n",
    "y_pred_rf = model_rf.predict(X_test)\n",
    "\n",
    "print(\"\\n=== Evaluasi Random Forest ===\")\n",
    "print(\"Akurasi:\", accuracy_score(y_test, y_pred_rf))\n",
    "print(\"\\nClassification Report (Random Forest):\")\n",
    "print(classification_report(y_test, y_pred_rf, digits=4))\n",
    "\n",
    "# Visualisasi Confusion Matrix untuk Random Forest\n",
    "sns.heatmap(confusion_matrix(y_test, y_pred_rf), annot=True, fmt='d', cmap='Blues')\n",
    "plt.title('Confusion Matrix - Logistic Regression')\n",
    "plt.xlabel('Predicted')\n",
    "plt.ylabel('True')\n",
    "plt.show()"
   ]
  },
  {
   "cell_type": "code",
   "execution_count": 10,
   "metadata": {
    "id": "dUPItkbXBNkO"
   },
   "outputs": [
    {
     "data": {
      "text/plain": [
       "['explore_random_forest_classification.h5']"
      ]
     },
     "execution_count": 10,
     "metadata": {},
     "output_type": "execute_result"
    }
   ],
   "source": [
    "# Menyimpan Model Selain Decision Tree\n",
    "# Model ini bisa lebih dari satu\n",
    "import joblib\n",
    "joblib.dump(model_rf, 'explore_random_forest_classification.h5')"
   ]
  },
  {
   "cell_type": "markdown",
   "metadata": {
    "id": "u23H2guj-h9h"
   },
   "source": [
    "Hyperparameter Tuning Model\n",
    "\n",
    "Pilih salah satu algoritma yang ingin Anda tuning"
   ]
  },
  {
   "cell_type": "code",
   "execution_count": 11,
   "metadata": {
    "id": "dFCTxJJq-m-l"
   },
   "outputs": [
    {
     "name": "stdout",
     "output_type": "stream",
     "text": [
      "Fitting 5 folds for each of 216 candidates, totalling 1080 fits\n",
      "Best Parameters: {'bootstrap': False, 'max_depth': 30, 'min_samples_leaf': 1, 'min_samples_split': 2, 'n_estimators': 300}\n",
      "Best CV Score: 0.3415023141922619\n"
     ]
    }
   ],
   "source": [
    "# Definisikan parameter grid untuk Random Forest\n",
    "param_grid = {\n",
    "    \"n_estimators\": [100, 200, 300],      # jumlah pohon\n",
    "    \"max_depth\": [None, 10, 20, 30],      # kedalaman pohon\n",
    "    \"min_samples_split\": [2, 5, 10],      # minimal sample untuk split\n",
    "    \"min_samples_leaf\": [1, 2, 4],        # minimal sample di leaf\n",
    "    \"bootstrap\": [True, False]            # sampling dengan/ tanpa replacement\n",
    "}\n",
    "\n",
    "# Model dasar\n",
    "rf = RandomForestClassifier(random_state=42)\n",
    "\n",
    "# GridSearch dengan 5-fold cross validation\n",
    "grid_search = GridSearchCV(\n",
    "    estimator=rf,\n",
    "    param_grid=param_grid,\n",
    "    cv=5,\n",
    "    n_jobs=-1,\n",
    "    verbose=2,\n",
    "    scoring=\"f1_weighted\"\n",
    ")\n",
    "\n",
    "# Latih model dengan data latih\n",
    "grid_search.fit(X_train, y_train)\n",
    "\n",
    "# Ambil model terbaik\n",
    "best_rf = grid_search.best_estimator_\n",
    "\n",
    "print(\"Best Parameters:\", grid_search.best_params_)\n",
    "print(\"Best CV Score:\", grid_search.best_score_)"
   ]
  },
  {
   "cell_type": "code",
   "execution_count": 12,
   "metadata": {
    "id": "1g6EPSSWxjcQ"
   },
   "outputs": [
    {
     "name": "stdout",
     "output_type": "stream",
     "text": [
      "\n",
      "=== Evaluasi Random Forest (Best Model) ===\n",
      "Akurasi: 0.3425196850393701\n",
      "\n",
      "Classification Report:\n",
      "              precision    recall  f1-score   support\n",
      "\n",
      "           0     0.3410    0.3491    0.3450       169\n",
      "           1     0.3387    0.3684    0.3529       171\n",
      "           2     0.3490    0.3095    0.3281       168\n",
      "\n",
      "    accuracy                         0.3425       508\n",
      "   macro avg     0.3429    0.3424    0.3420       508\n",
      "weighted avg     0.3429    0.3425    0.3421       508\n",
      "\n"
     ]
    }
   ],
   "source": [
    "# Menampilkan hasil evaluasi akurasi, presisi, recall, dan F1-Score pada algoritma yang sudah dituning.\n",
    "# Latih ulang dengan model terbaik di seluruh data latih\n",
    "best_rf.fit(X_train, y_train)\n",
    "\n",
    "# Evaluasi di data uji\n",
    "y_pred_best = best_rf.predict(X_test)\n",
    "\n",
    "print(\"\\n=== Evaluasi Random Forest (Best Model) ===\")\n",
    "print(\"Akurasi:\", accuracy_score(y_test, y_pred_best))\n",
    "print(\"\\nClassification Report:\")\n",
    "print(classification_report(y_test, y_pred_best, digits=4))"
   ]
  },
  {
   "cell_type": "code",
   "execution_count": 13,
   "metadata": {
    "id": "7UJNcVP--n7S"
   },
   "outputs": [
    {
     "data": {
      "text/plain": [
       "['tuning_classification.h5']"
      ]
     },
     "execution_count": 13,
     "metadata": {},
     "output_type": "execute_result"
    }
   ],
   "source": [
    "# Menyimpan Model hasil tuning\n",
    "import joblib\n",
    "joblib.dump(best_rf, 'tuning_classification.h5')"
   ]
  },
  {
   "cell_type": "markdown",
   "metadata": {
    "id": "0Hs4Xp4OiGEk"
   },
   "source": [
    "End of Code"
   ]
  }
 ],
 "metadata": {
  "colab": {
   "provenance": []
  },
  "kernelspec": {
   "display_name": "Python 3 (ipykernel)",
   "language": "python",
   "name": "python3"
  },
  "language_info": {
   "codemirror_mode": {
    "name": "ipython",
    "version": 3
   },
   "file_extension": ".py",
   "mimetype": "text/x-python",
   "name": "python",
   "nbconvert_exporter": "python",
   "pygments_lexer": "ipython3",
   "version": "3.9.19"
  }
 },
 "nbformat": 4,
 "nbformat_minor": 4
}
